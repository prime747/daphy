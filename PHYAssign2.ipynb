{
  "cells": [
    {
      "cell_type": "markdown",
      "id": "32c470f8",
      "metadata": {
        "id": "32c470f8"
      },
      "source": [
        "# Assignment 2"
      ]
    },
    {
      "cell_type": "code",
      "source": [
        "import nbformat, base64, re\n",
        "from pathlib import Path\n",
        "\n",
        "nb_file = \"PHYAssign2.ipynb\"\n",
        "\n",
        "# Load notebook\n",
        "nb = nbformat.read(nb_file, as_version=4)\n",
        "\n",
        "for cell in nb.cells:\n",
        "    if cell.cell_type == \"markdown\":\n",
        "        matches = re.findall(r'!\\[\\]\\((.*?)\\)', cell.source)\n",
        "        for img_path in matches:\n",
        "            path = Path(img_path)\n",
        "            if path.exists():\n",
        "                ext = path.suffix[1:] # e.g., 'jpg' or 'png'\n",
        "                data = base64.b64encode(path.read_bytes()).decode()\n",
        "                img_tag = f'<img src=\"data:image/{ext};base64,{data}\">'\n",
        "                cell.source = cell.source.replace(f\"![]({img_path})\", img_tag)\n",
        "\n",
        "# Save notebook with embedded images\n",
        "nbformat.write(nb, \"PHYAssign2_embedded.ipynb\")"
      ],
      "metadata": {
        "id": "Gd7sEYf53Kue"
      },
      "id": "Gd7sEYf53Kue",
      "execution_count": null,
      "outputs": []
    },
    {
      "cell_type": "markdown",
      "source": [
        "#Q1\n",
        "![](/content/sample_data/Q1_1.jpg)"
      ],
      "metadata": {
        "id": "Wosgg6Ra3I8k"
      },
      "id": "Wosgg6Ra3I8k"
    }
  ],
  "metadata": {
    "kernelspec": {
      "display_name": "Python 3 (ipykernel)",
      "language": "python",
      "name": "python3"
    },
    "language_info": {
      "codemirror_mode": {
        "name": "ipython",
        "version": 3
      },
      "file_extension": ".py",
      "mimetype": "text/x-python",
      "name": "python",
      "nbconvert_exporter": "python",
      "pygments_lexer": "ipython3",
      "version": "3.9.13"
    },
    "colab": {
      "provenance": []
    }
  },
  "nbformat": 4,
  "nbformat_minor": 5
}